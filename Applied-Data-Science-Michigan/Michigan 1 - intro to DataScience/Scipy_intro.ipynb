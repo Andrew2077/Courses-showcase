{
 "cells": [
  {
   "cell_type": "code",
   "execution_count": 117,
   "metadata": {},
   "outputs": [],
   "source": [
    "import numpy as np\n",
    "import pandas as pd\n",
    "\n",
    "from scipy import stats"
   ]
  },
  {
   "cell_type": "markdown",
   "metadata": {},
   "source": [
    "## Hypothosis testing --- Needs to re study this"
   ]
  },
  {
   "cell_type": "code",
   "execution_count": 118,
   "metadata": {},
   "outputs": [
    {
     "data": {
      "text/plain": [
       "(2315, 13)"
      ]
     },
     "execution_count": 118,
     "metadata": {},
     "output_type": "execute_result"
    }
   ],
   "source": [
    "df = pd.read_csv('NoteBooks/resources\\week-4\\datasets\\grades.csv')\n",
    "df.shape"
   ]
  },
  {
   "cell_type": "code",
   "execution_count": 119,
   "metadata": {},
   "outputs": [
    {
     "data": {
      "text/plain": [
       "'student_id'"
      ]
     },
     "execution_count": 119,
     "metadata": {},
     "output_type": "execute_result"
    }
   ],
   "source": [
    "submission_cols = ['student_id',\n",
    "                   'assignment1_submission',\n",
    "                   'assignment2_submission',\n",
    "                   'assignment3_submission',\n",
    "                   'assignment4_submission',\n",
    "                   'assignment5_submission',\n",
    "                   'assignment6_submission']\n",
    "grade_cols = ['student_id',\n",
    "              'assignment1_grade',\n",
    "              'assignment2_grade',\n",
    "              'assignment3_grade',\n",
    "              'assignment4_grade',\n",
    "              'assignment5_grade',\n",
    "              'assignment6_grade']\n",
    "submission_cols[0]\n",
    "grade_cols[0]\n"
   ]
  },
  {
   "cell_type": "code",
   "execution_count": 120,
   "metadata": {},
   "outputs": [
    {
     "data": {
      "text/plain": [
       "(1259, 13)"
      ]
     },
     "execution_count": 120,
     "metadata": {},
     "output_type": "execute_result"
    }
   ],
   "source": [
    "early_sub = df[pd.to_datetime(df['assignment1_submission']) < pd.to_datetime('2016-01-01')]\n",
    "early_sub.shape"
   ]
  },
  {
   "cell_type": "code",
   "execution_count": 121,
   "metadata": {},
   "outputs": [
    {
     "data": {
      "text/plain": [
       "(1056, 13)"
      ]
     },
     "execution_count": 121,
     "metadata": {},
     "output_type": "execute_result"
    }
   ],
   "source": [
    "late_sub = df[pd.to_datetime(df['assignment1_submission']) > pd.to_datetime('2016-01-01')]\n",
    "late_sub.shape"
   ]
  },
  {
   "cell_type": "code",
   "execution_count": 122,
   "metadata": {},
   "outputs": [
    {
     "data": {
      "text/plain": [
       "(1056, 13)"
      ]
     },
     "execution_count": 122,
     "metadata": {},
     "output_type": "execute_result"
    }
   ],
   "source": [
    "late_sub = df[~df.index.isin(early_sub.index)]\n",
    "late_sub.shape"
   ]
  },
  {
   "cell_type": "code",
   "execution_count": 123,
   "metadata": {},
   "outputs": [
    {
     "name": "stdout",
     "output_type": "stream",
     "text": [
      "74.94728457024304\n",
      "74.0450648477065\n"
     ]
    }
   ],
   "source": [
    "print(early_sub['assignment1_grade'].mean())\n",
    "print(late_sub['assignment1_grade'].mean())"
   ]
  },
  {
   "cell_type": "code",
   "execution_count": 127,
   "metadata": {},
   "outputs": [
    {
     "data": {
      "text/plain": [
       "Ttest_indResult(statistic=1.3223540853721596, pvalue=0.18618101101713855)"
      ]
     },
     "execution_count": 127,
     "metadata": {},
     "output_type": "execute_result"
    }
   ],
   "source": [
    "from scipy.stats import ttest_ind\n",
    "\n",
    "ttest_ind(early_sub['assignment1_grade'], late_sub['assignment1_grade'])"
   ]
  },
  {
   "cell_type": "code",
   "execution_count": 128,
   "metadata": {},
   "outputs": [
    {
     "name": "stdout",
     "output_type": "stream",
     "text": [
      "Ttest_indResult(statistic=1.3223540853721596, pvalue=0.18618101101713855)\n",
      "Ttest_indResult(statistic=1.2514717608216366, pvalue=0.2108889627004424)\n",
      "Ttest_indResult(statistic=1.6133726558705392, pvalue=0.10679998102227865)\n",
      "Ttest_indResult(statistic=0.049671157386456125, pvalue=0.960388729789337)\n",
      "Ttest_indResult(statistic=-0.05279315545404755, pvalue=0.9579012739746492)\n",
      "Ttest_indResult(statistic=-0.11609743352612056, pvalue=0.9075854011989656)\n"
     ]
    }
   ],
   "source": [
    "print(ttest_ind(early_sub['assignment1_grade'], late_sub['assignment1_grade']))\n",
    "print(ttest_ind(early_sub['assignment2_grade'], late_sub['assignment2_grade']))\n",
    "print(ttest_ind(early_sub['assignment3_grade'], late_sub['assignment3_grade']))\n",
    "print(ttest_ind(early_sub['assignment4_grade'], late_sub['assignment4_grade']))\n",
    "print(ttest_ind(early_sub['assignment5_grade'], late_sub['assignment5_grade']))\n",
    "print(ttest_ind(early_sub['assignment6_grade'], late_sub['assignment6_grade']))\n",
    "\n"
   ]
  },
  {
   "cell_type": "code",
   "execution_count": 130,
   "metadata": {},
   "outputs": [
    {
     "name": "stdout",
     "output_type": "stream",
     "text": [
      "48.60452389399186\n",
      "48.635211368307324\n"
     ]
    }
   ],
   "source": [
    "print(early_sub['assignment5_grade'].mean())\n",
    "print(late_sub['assignment5_grade'].mean())"
   ]
  },
  {
   "cell_type": "code",
   "execution_count": 153,
   "metadata": {},
   "outputs": [
    {
     "data": {
      "text/plain": [
       "50"
      ]
     },
     "execution_count": 153,
     "metadata": {},
     "output_type": "execute_result"
    }
   ],
   "source": [
    "x=[np.random.random(50) for i in range(3)]\n",
    "len(x[1])"
   ]
  },
  {
   "cell_type": "code",
   "execution_count": 165,
   "metadata": {},
   "outputs": [],
   "source": [
    "df1 = pd.DataFrame([np.random.random(100) for x in range(100)])\n",
    "df2 = pd.DataFrame([np.random.random(100) for x in range(100)]) "
   ]
  },
  {
   "cell_type": "code",
   "execution_count": 158,
   "metadata": {},
   "outputs": [
    {
     "data": {
      "text/plain": [
       "(100, 100)"
      ]
     },
     "execution_count": 158,
     "metadata": {},
     "output_type": "execute_result"
    }
   ],
   "source": [
    "df2.shape"
   ]
  },
  {
   "cell_type": "code",
   "execution_count": 166,
   "metadata": {},
   "outputs": [
    {
     "name": "stdout",
     "output_type": "stream",
     "text": [
      "col 2 has pval of : 0.006678994510412403\n",
      "col 9 has pval of : 0.04137328272103081\n",
      "col 17 has pval of : 0.013345156024330715\n",
      "col 50 has pval of : 0.02727712146131414\n",
      "col 66 has pval of : 0.08809566977880005\n",
      "col 71 has pval of : 0.05530449928874646\n",
      "col 72 has pval of : 0.06850507849306474\n",
      "col 73 has pval of : 0.08645764545021858\n",
      "col 82 has pval of : 0.06796957066568932\n",
      "col 92 has pval of : 0.06999204054317343\n",
      "col 96 has pval of : 0.07859183544535077\n",
      "totoal number of cols that statisfied the condition was 11\n"
     ]
    }
   ],
   "source": [
    "def test_col(alpha = 0.1):\n",
    "    num_diff = 0\n",
    "    for col in df1.columns:\n",
    "        teststat , pval = ttest_ind(df1[col], df2[col])\n",
    "        if pval <= alpha:\n",
    "            num_diff += 1\n",
    "            print(f'col {col} has pval of : {pval}')\n",
    "    print(f'totoal number of cols that statisfied the condition was {num_diff}')\n",
    "\n",
    "test_col()"
   ]
  },
  {
   "cell_type": "code",
   "execution_count": null,
   "metadata": {},
   "outputs": [],
   "source": []
  }
 ],
 "metadata": {
  "kernelspec": {
   "display_name": "Python 3.10.0 64-bit",
   "language": "python",
   "name": "python3"
  },
  "language_info": {
   "codemirror_mode": {
    "name": "ipython",
    "version": 3
   },
   "file_extension": ".py",
   "mimetype": "text/x-python",
   "name": "python",
   "nbconvert_exporter": "python",
   "pygments_lexer": "ipython3",
   "version": "3.10.0"
  },
  "orig_nbformat": 4,
  "vscode": {
   "interpreter": {
    "hash": "fbc768028c3e6ead51d9a200ddcb2ec858ae62844dcd1994729a8279be9b48f2"
   }
  }
 },
 "nbformat": 4,
 "nbformat_minor": 2
}
