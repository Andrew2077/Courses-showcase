{
 "cells": [
  {
   "cell_type": "code",
   "execution_count": 12,
   "metadata": {},
   "outputs": [],
   "source": [
    "import re"
   ]
  },
  {
   "cell_type": "markdown",
   "metadata": {},
   "source": [
    "# raw string and backslashes "
   ]
  },
  {
   "cell_type": "code",
   "execution_count": 13,
   "metadata": {},
   "outputs": [
    {
     "name": "stdout",
     "output_type": "stream",
     "text": [
      "\tTap\n",
      "\\tTap\n"
     ]
    }
   ],
   "source": [
    "txt = 'start doing somthing today'\n",
    "print('\\tTap')\n",
    "print(r'\\tTap')"
   ]
  },
  {
   "cell_type": "code",
   "execution_count": 14,
   "metadata": {},
   "outputs": [
    {
     "name": "stdout",
     "output_type": "stream",
     "text": [
      "<re.Match object; span=(0, 3), match='abc'>\n",
      "abc\n"
     ]
    }
   ],
   "source": [
    "txt = 'abcdefghijklmnopqrstuvwxyz'\n",
    "pattern = re.compile(r'abc')\n",
    "matches = pattern.finditer(txt)\n",
    "for match in matches : \n",
    "    print(match)\n",
    "    #* returns the span location of the match in the text\n",
    "    \n",
    "print(txt[0:3])"
   ]
  },
  {
   "cell_type": "markdown",
   "metadata": {},
   "source": [
    "## Special Characters\n",
    " - . ^ $ * + ? {  } [ ] \\ | ( )\n",
    " - use \\ to escape the special characters\n",
    " - Captial leters negates the small letters\n",
    "\n",
    "### the use of special characters\n",
    " - . matches any character except newline\n",
    " - \\d matches a digit (0-9)\n",
    " - \\D matches a non-digit \n",
    " - \\w matches a word character (a-z, A-Z, 0-9, _)\n",
    " - \\W matches a non-word character\n",
    " - \\s matches a whitespace character (space, tab, newline)\n",
    " - \\S matches a non-whitespace character\n",
    "### anchors\n",
    " - \\b matches a word boundary (between a word and a non-word)\n",
    " - \\B matches a non-word boundary \n",
    " - ^ matches the beginning of a string\n",
    " - & matches the end of a string\n",
    " - [] matches any character in the brackets\n",
    " - () matches any character in the parentheses- group\n",
    "### Quantifiers\n",
    " - astrisd {*} matches 0 or more times\n",
    " - plus_sign {+} matches 1 or more times\n",
    " - ? matches 0 or 1 times\n",
    " - {n} matches exactly n times\n",
    " - {n,m} matches at least n times and at most m times"
   ]
  },
  {
   "cell_type": "code",
   "execution_count": 15,
   "metadata": {},
   "outputs": [
    {
     "name": "stdout",
     "output_type": "stream",
     "text": [
      "<re.Match object; span=(6, 7), match='.'>\n"
     ]
    }
   ],
   "source": [
    "text = 'google.com'\n",
    "# for match in re.finditer(r'.',text):\n",
    "#     print(match)\n",
    "for match in re.finditer(r'\\.',text):\n",
    "    print(match)\n"
   ]
  },
  {
   "cell_type": "code",
   "execution_count": 16,
   "metadata": {},
   "outputs": [
    {
     "name": "stdout",
     "output_type": "stream",
     "text": [
      "<re.Match object; span=(66, 75), match='Ms. Smith'>\n",
      "<re.Match object; span=(76, 86), match='Mrs. Daves'>\n",
      "<re.Match object; span=(87, 97), match='Mr Roberts'>\n",
      "<re.Match object; span=(98, 107), match='Mrs Jones'>\n",
      "<re.Match object; span=(108, 113), match='Mr. T'>\n"
     ]
    }
   ],
   "source": [
    "num = '''\n",
    "321-123-1234\n",
    "523.555.1234\n",
    "521*523*1234\n",
    "900-123-1234\n",
    "800-123-1234\n",
    "Ms. Smith\n",
    "Mrs. Daves\n",
    "Mr Roberts\n",
    "Mrs Jones\n",
    "Mr. T\n",
    "'''\n",
    "# for match in re.finditer(r'\\d\\d\\d',num):\n",
    "#     print(match)\n",
    "\n",
    "## print('matching with .')\n",
    "for match in re.finditer(r'\\d\\d\\d.\\d\\d\\d.\\d\\d\\d',num):\n",
    "    #print(match)\n",
    "    pass\n",
    "    \n",
    "## print('matching with []')\n",
    "for match in re.finditer(r'\\d\\d\\d[-.]\\d\\d\\d[-.]\\d\\d\\d',num):\n",
    "    #print(match)\n",
    "    pass\n",
    "    \n",
    "## print('matching 800 or 900')\n",
    "for match in re.finditer(r'[89]00[-.]\\d\\d\\d[-.]\\d\\d\\d',num):\n",
    "    #print(match)\n",
    "    pass\n",
    "\n",
    "## print('the use of - which stands for range')\n",
    "for match in re.finditer(r'[4-9][0-9][0-9][-.]\\d\\d\\d[-.]\\d\\d\\d',num):\n",
    "    # print(match)\n",
    "    pass\n",
    "\n",
    "## print('^ equivilant to not - used inside [^\\d] ')\n",
    "for match in re.finditer(r'[^\\d]',num):\n",
    "    #print(match)\n",
    "    pass\n",
    "## {} used to specify the number of times the character should be repeated\n",
    "for match in re.finditer(r'\\d{3}[-.]\\d{3}[-.]\\d{4}',num):\n",
    "    #print(match)\n",
    "    pass\n",
    "    \n",
    "## matching with ? used to specify that the character should be optional\n",
    "for match in re.finditer(r'Mr\\.?\\s[A-Z]\\w*',num):\n",
    "    #print(match)\n",
    "    pass\n",
    "    \n",
    "## utilizing groups in ()\n",
    "for match in re.finditer(r'(Mr|Mrs|Ms)\\.?\\s[A-Z]\\w*',num):\n",
    "    print(match)\n"
   ]
  },
  {
   "cell_type": "code",
   "execution_count": 17,
   "metadata": {},
   "outputs": [],
   "source": [
    "emails_1 = '''\n",
    "www.aBC.com\n",
    "abc.com\n",
    "ab_c.de8f\n",
    "com abc\n",
    "abc..com\n",
    "'''\n",
    "emails_2 = '''\n",
    "CoreyMssdas@gmail.com\n",
    "corey.asdhksd@uni.edu.com\n",
    "corey-qwd21-123@my-work.net\n",
    "'''"
   ]
  },
  {
   "cell_type": "code",
   "execution_count": 18,
   "metadata": {},
   "outputs": [
    {
     "name": "stdout",
     "output_type": "stream",
     "text": [
      "<re.Match object; span=(1, 8), match='www.aBC'>\n",
      "<re.Match object; span=(13, 20), match='abc.com'>\n",
      "<re.Match object; span=(21, 30), match='ab_c.de8f'>\n"
     ]
    }
   ],
   "source": [
    "for match in re.finditer(r'[(\\w|\\-)]+\\.[\\w]+',emails_1):\n",
    "    print(match)"
   ]
  },
  {
   "cell_type": "code",
   "execution_count": 19,
   "metadata": {},
   "outputs": [
    {
     "name": "stdout",
     "output_type": "stream",
     "text": [
      "<re.Match object; span=(1, 22), match='CoreyMssdas@gmail.com'>\n",
      "<re.Match object; span=(29, 44), match='asdhksd@uni.edu'>\n",
      "<re.Match object; span=(49, 76), match='corey-qwd21-123@my-work.net'>\n"
     ]
    }
   ],
   "source": [
    "for match in re.finditer(r'[(\\w|\\-)]+@[(\\w|\\-)]+\\.(edu|com|net)', emails_2):\n",
    "    print(match)\n"
   ]
  },
  {
   "cell_type": "markdown",
   "metadata": {},
   "source": [
    "## Saving text into a string"
   ]
  },
  {
   "cell_type": "code",
   "execution_count": 20,
   "metadata": {},
   "outputs": [
    {
     "name": "stdout",
     "output_type": "stream",
     "text": [
      ".com\n",
      ".com\n",
      ".com\n",
      ".gov\n",
      "\n",
      "google.com\n",
      "youtube.com\n",
      "Facebook.com\n",
      "nasa.gov\n",
      "\n"
     ]
    }
   ],
   "source": [
    "urls = '''\n",
    "http://www.google.com\n",
    "https://youtube.com\n",
    "https://www.Facebook.com\n",
    "http://www.nasa.gov\n",
    "'''\n",
    "\n",
    "pattern = re.compile(r'https?://(www\\.)?([\\w]*)(\\.[\\w]*)')\n",
    "matches = pattern.finditer(urls)\n",
    "for match in matches:\n",
    "    print(match.group(3))\n",
    "    pass\n",
    "                   \n",
    "subbed_url  = pattern.sub(r'\\2\\3', urls)\n",
    "print(subbed_url)\n",
    "\n"
   ]
  },
  {
   "cell_type": "code",
   "execution_count": 21,
   "metadata": {},
   "outputs": [
    {
     "name": "stdout",
     "output_type": "stream",
     "text": [
      "['http://www.google.com', 'https://www.Facebook.com', 'http://www.nasa.gov']\n"
     ]
    }
   ],
   "source": [
    "pattern_2 = re.compile(r'https?://www\\.?[\\w]*\\.[\\w]*')\n",
    "grapped_urls = []\n",
    " \n",
    "for match in pattern_2.findall(urls):\n",
    "    grapped_urls.append(match)\n",
    "    \n",
    "print(grapped_urls)"
   ]
  },
  {
   "cell_type": "markdown",
   "metadata": {},
   "source": [
    "## look ahead & look behind\n",
    "- (?=) matches if the expression is followed by a certain character\n",
    "- (?!) matches if the expression is not followed by a certain character\n",
    "- (?<=) matches if the expression is preceded by a certain character\n",
    "- (?<!) matches if the expression is not preceded by a certain character"
   ]
  },
  {
   "cell_type": "code",
   "execution_count": null,
   "metadata": {},
   "outputs": [
    {
     "data": {
      "text/plain": [
       "['love']"
      ]
     },
     "execution_count": 14,
     "metadata": {},
     "output_type": "execute_result"
    }
   ],
   "source": [
    "text = \"i love pizza and i love python\"\n",
    "pattern = re.compile(r'love(?=\\spizza)')\n",
    "re.findall(pattern,text)"
   ]
  },
  {
   "cell_type": "markdown",
   "metadata": {},
   "source": [
    "## Getting Date Sample\n"
   ]
  },
  {
   "cell_type": "code",
   "execution_count": 5,
   "metadata": {},
   "outputs": [
    {
     "data": {
      "text/plain": [
       "['okuneva5222', 'andrew', '-', '-', 'is', 'my', 'friend]']"
      ]
     },
     "execution_count": 5,
     "metadata": {},
     "output_type": "execute_result"
    }
   ],
   "source": [
    "import re\n",
    "txt = 'okuneva5222 [21/Jun/2019:15:45:27 -0700]'\n",
    "txt2 = 'okuneva5222 [andrew - - is  my friend]'\n",
    "\n",
    "re.findall('[a-z]+',txt2)\n",
    "re.findall('(?P<Name>[a-z-]\\S*)',txt2)\n",
    "\n"
   ]
  },
  {
   "cell_type": "code",
   "execution_count": 3,
   "metadata": {},
   "outputs": [
    {
     "data": {
      "text/plain": [
       "True"
      ]
     },
     "execution_count": 3,
     "metadata": {},
     "output_type": "execute_result"
    }
   ],
   "source": [
    "txt = 'Bolivia (Plurinational State of)'\n",
    "str.__contains__(txt,'(')\n",
    "# re.findall('[\\w]+(?=\\s\\([\\w\\s]+\\))', txt)"
   ]
  },
  {
   "cell_type": "code",
   "execution_count": 30,
   "metadata": {},
   "outputs": [
    {
     "name": "stdout",
     "output_type": "stream",
     "text": [
      "['Bolivia']\n",
      "it worked\n"
     ]
    }
   ],
   "source": [
    "nums= ['1','2','3','4','5','6','7','8','9','0']\n",
    "\n",
    "txt = 'Bolivia10'\n",
    "if any(i in txt for i in nums):\n",
    "    print(re.findall('[a-zA-Z]+', txt))\n",
    "    print('it worked')\n",
    "else: \n",
    "    print(\"notworking\")"
   ]
  },
  {
   "cell_type": "markdown",
   "metadata": {},
   "source": [
    "## Assigment Question C - Hard"
   ]
  },
  {
   "cell_type": "code",
   "execution_count": null,
   "metadata": {},
   "outputs": [],
   "source": [
    "import re\n",
    "\n",
    "\n",
    "def logs():\n",
    "    with open(\"assets/logdata.txt\", \"r\") as file:\n",
    "        logdata = file.read()\n",
    "\n",
    "    # method 1\n",
    "    # YOUR CODE HERE\n",
    "    IT_list = []\n",
    "    req = re.finditer(\n",
    "        '(?P<host>\\d+[.]\\d+[.]\\d+[.]\\d+) - (?P<user_name>[\\w]+|-) [\\[](?P<time>\\S+ -0700)\\] \"(?P<request>[A-Z]+ \\S+ HTTP/\\d.\\d)', logdata)\n",
    "    for item in req:\n",
    "        IT_list.append(item.groupdict())\n",
    "\n",
    "    # method 2\n",
    "    # req = re.findall('(\\d+[.]\\d+[.]\\d+[.]\\d+) - ([a-z-]\\S*) [\\[](\\S+ -0700)\\] \"([A-Z]\\S+ \\/\\S+ HTTP\\/[0-9.]+)',logdata)\n",
    "    # for i in req:\n",
    "    #     IT_list.append({'host': i[0],'user_name': i[1],'time': i[2],'request': i[3]})\n",
    "    # IT_list\n",
    "\n",
    "    return IT_list\n",
    "    #raise NotImplementedError()\n"
   ]
  },
  {
   "cell_type": "markdown",
   "metadata": {},
   "source": [
    "## Group of patterns\n"
   ]
  },
  {
   "cell_type": "code",
   "execution_count": 39,
   "metadata": {},
   "outputs": [],
   "source": [
    "patterns = \"\"\"\n",
    "(?P<first_name>\\w+) # first name\n",
    "(?P<last_name>\\w+)  # last name\n",
    "\"\"\""
   ]
  },
  {
   "cell_type": "markdown",
   "metadata": {},
   "source": [
    "## Better methode is to read without r\n",
    "\n",
    "\n"
   ]
  },
  {
   "cell_type": "code",
   "execution_count": 2,
   "metadata": {},
   "outputs": [
    {
     "data": {
      "text/plain": [
       "[{'host': '146.204.224.152',\n",
       "  'user_name': 'feest6811',\n",
       "  'time': '21/Jun/2019:15:45:24 -0700',\n",
       "  'request': 'POST /incentivize HTTP/1.1'},\n",
       " {'host': '197.109.77.178',\n",
       "  'user_name': 'kertzmann3129',\n",
       "  'time': '21/Jun/2019:15:45:25 -0700',\n",
       "  'request': 'DELETE /virtual/solutions/target/web+services HTTP/2.0'},\n",
       " {'host': '156.127.178.177',\n",
       "  'user_name': 'okuneva5222',\n",
       "  'time': '21/Jun/2019:15:45:27 -0700',\n",
       "  'request': 'DELETE /interactive/transparent/niches/revolutionize HTTP/1.1'}]"
      ]
     },
     "execution_count": 2,
     "metadata": {},
     "output_type": "execute_result"
    }
   ],
   "source": [
    "import re\n",
    "text = '''146.204.224.152 - feest6811 [21/Jun/2019:15:45:24 -0700] \"POST /incentivize HTTP/1.1\" 302 4622\n",
    "197.109.77.178 - kertzmann3129 [21/Jun/2019:15:45:25 -0700] \"DELETE /virtual/solutions/target/web+services HTTP/2.0\" 203 26554\n",
    "156.127.178.177 - okuneva5222 [21/Jun/2019:15:45:27 -0700] \"DELETE /interactive/transparent/niches/revolutionize HTTP/1.1\" 416 14701\n",
    "'''\n",
    "\n",
    "req = re.findall('(\\d+[.]\\d+[.]\\d+[.]\\d+) - ([a-z-]\\S*) [\\[](\\S+ -0700)\\] \"([A-Z]\\S+ \\/\\S+ HTTP\\/[0-9.]+)',text)\n",
    "    \n",
    "l = []\n",
    "for i in req:\n",
    "    l.append({'host': i[0],'user_name': i[1],'time': i[2],'request': i[3]})\n",
    "    \n",
    "l"
   ]
  },
  {
   "cell_type": "markdown",
   "metadata": {},
   "source": [
    "## Questions \n"
   ]
  },
  {
   "cell_type": "code",
   "execution_count": null,
   "metadata": {},
   "outputs": [],
   "source": [
    "# expression that matches words start with vouls and end with no vouls\n",
    "\"^(a|e|i|o|u)[a-z]*((?!(a|e|i|o|u)).)$\"\n",
    "\n",
    "# expression for hex - oct\n",
    "\"((0x)[a-f0-9]{1,4})|((0o)[0-7]{1,4})\\b\"\n",
    "\n",
    "# matching names\n",
    "\"^[A-Z][a-z]*\\s[A-Z][a-z]*\""
   ]
  },
  {
   "cell_type": "code",
   "execution_count": null,
   "metadata": {},
   "outputs": [],
   "source": [
    "\"^(([\\w]+\\.[\\w]*)|([\\w]*))@[\\w]*\\.[\\w]*(\\.[\\w]*|)\""
   ]
  },
  {
   "cell_type": "code",
   "execution_count": null,
   "metadata": {},
   "outputs": [
    {
     "name": "stdout",
     "output_type": "stream",
     "text": [
      "['bat', 'bot']\n"
     ]
    }
   ],
   "source": [
    "import re\n",
    "string = 'bat, lat, mat, bet, let, met, bit, lit, mit, bot, lot, mot'\n",
    "result = re.findall('b[ao]t', string)\n",
    "print(result)"
   ]
  },
  {
   "cell_type": "code",
   "execution_count": null,
   "metadata": {},
   "outputs": [
    {
     "data": {
      "text/plain": [
       "['BC']"
      ]
     },
     "execution_count": 131,
     "metadata": {},
     "output_type": "execute_result"
    }
   ],
   "source": [
    "import re \n",
    "s = 'ACBCAC'\n",
    "re.findall('[^A]C', s)"
   ]
  },
  {
   "cell_type": "code",
   "execution_count": null,
   "metadata": {},
   "outputs": [
    {
     "data": {
      "text/plain": [
       "5"
      ]
     },
     "execution_count": 133,
     "metadata": {},
     "output_type": "execute_result"
    }
   ],
   "source": [
    "import re\n",
    "s = 'ACAABAACAAAB'\n",
    "result = re.findall('A{1,2}', s)\n",
    "L = len(result)\n",
    "L"
   ]
  },
  {
   "cell_type": "code",
   "execution_count": null,
   "metadata": {},
   "outputs": [],
   "source": [
    "text = '''\n",
    "Office of Research Administration: (734) 647-6333 | 4325 North Quad\n",
    "Office of Budget and Financial Administration: (734) 647-8044 | 309 Maynard, Suite 205\n",
    "Health Informatics Program: (734) 763-2285 | 333 Maynard, Suite 500\n",
    "Office of the Dean: (734) 647-3576 | 4322 North Quad\n",
    "UMSI Engagement Center: (734) 763-1251 | 777 North University\n",
    "Faculty Adminstrative Support Staff: (734) 764-9376 | 4322 North Quad\n",
    "'''\n",
    "\n"
   ]
  },
  {
   "cell_type": "code",
   "execution_count": null,
   "metadata": {},
   "outputs": [
    {
     "name": "stdout",
     "output_type": "stream",
     "text": [
      "<re.Match object; span=(19, 29), match='google.com'>\n",
      "<re.Match object; span=(55, 68), match='www.baidu.com'>\n"
     ]
    }
   ],
   "source": [
    "txt = 'I refer to https://google.com and I never refer http://www.baidu.com if I have to search anything'\n",
    "\n",
    "for item in re.finditer('(?<=[https]://)[\\w.]+', txt):\n",
    "    print(item)\n"
   ]
  },
  {
   "cell_type": "code",
   "execution_count": null,
   "metadata": {},
   "outputs": [
    {
     "name": "stdout",
     "output_type": "stream",
     "text": [
      "4\n",
      "287\n",
      "6\n",
      "40\n"
     ]
    }
   ],
   "source": [
    "text=r'''Everyone has the following fundamental freedoms:\n",
    "    (a) freedom of conscience and religion;\n",
    "    (b) freedom of thought, belief, opinion and expression, including freedom of the press and other media of communication;\n",
    "    (c) freedom of peaceful assembly; and\n",
    "    (d) freedom of association.'''\n",
    "\n",
    "import re\n",
    "pattern1 = '\\(.\\)'\n",
    "pattern2 = '(.)'\n",
    "pattern3 = 'freedom'\n",
    "pattern4 = '[a-d]'\n",
    "print(len(re.findall(pattern1,text)))\n",
    "print(len(re.findall(pattern2,text)))\n",
    "print(len(re.findall(pattern3,text)))\n",
    "print(len(re.findall(pattern4,text)))"
   ]
  },
  {
   "cell_type": "code",
   "execution_count": null,
   "metadata": {},
   "outputs": [],
   "source": []
  }
 ],
 "metadata": {
  "kernelspec": {
   "display_name": "Python 3.10.0 64-bit",
   "language": "python",
   "name": "python3"
  },
  "language_info": {
   "codemirror_mode": {
    "name": "ipython",
    "version": 3
   },
   "file_extension": ".py",
   "mimetype": "text/x-python",
   "name": "python",
   "nbconvert_exporter": "python",
   "pygments_lexer": "ipython3",
   "version": "3.10.0"
  },
  "orig_nbformat": 4,
  "vscode": {
   "interpreter": {
    "hash": "fbc768028c3e6ead51d9a200ddcb2ec858ae62844dcd1994729a8279be9b48f2"
   }
  }
 },
 "nbformat": 4,
 "nbformat_minor": 2
}
