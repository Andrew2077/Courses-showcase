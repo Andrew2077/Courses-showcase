{
 "cells": [
  {
   "cell_type": "code",
   "execution_count": 3,
   "metadata": {},
   "outputs": [],
   "source": [
    "import re  #* regular expression\n"
   ]
  },
  {
   "cell_type": "code",
   "execution_count": 4,
   "metadata": {},
   "outputs": [
    {
     "name": "stdout",
     "output_type": "stream",
     "text": [
      "No, it is not there\n"
     ]
    }
   ],
   "source": [
    "text = \"The rain in Spain\"\n",
    "\n",
    "if re.search(\"spain\", text):\n",
    "    print(\"Yes, it is there\")\n",
    "else:\n",
    "    print(\"No, it is not there\")\n"
   ]
  },
  {
   "cell_type": "code",
   "execution_count": 5,
   "metadata": {},
   "outputs": [
    {
     "data": {
      "text/plain": [
       "['', ' works at google. ', ' works at amazon. ', ' works at microsoft']"
      ]
     },
     "execution_count": 5,
     "metadata": {},
     "output_type": "execute_result"
    }
   ],
   "source": [
    "text = \"amy works at google. amy works at amazon. amy works at microsoft\"\n",
    "re.split(\"amy\", text)"
   ]
  },
  {
   "cell_type": "code",
   "execution_count": 6,
   "metadata": {},
   "outputs": [
    {
     "data": {
      "text/plain": [
       "['amy', 'amy', 'amy']"
      ]
     },
     "execution_count": 6,
     "metadata": {},
     "output_type": "execute_result"
    }
   ],
   "source": [
    "re.findall(\"amy\", text)"
   ]
  },
  {
   "cell_type": "markdown",
   "metadata": {},
   "source": [
    "## anchors\n",
    "- specifies the start and end of a section of text\n",
    "- ^ means start\n",
    "- $ means end"
   ]
  },
  {
   "cell_type": "code",
   "execution_count": 7,
   "metadata": {},
   "outputs": [
    {
     "data": {
      "text/plain": [
       "<re.Match object; span=(0, 3), match='amy'>"
      ]
     },
     "execution_count": 7,
     "metadata": {},
     "output_type": "execute_result"
    }
   ],
   "source": [
    "text = \"amy works at google. amy works at amazon. amy works at microsoft\"\n",
    "re.search(\"^amy\", text)"
   ]
  },
  {
   "cell_type": "code",
   "execution_count": 8,
   "metadata": {},
   "outputs": [
    {
     "name": "stdout",
     "output_type": "stream",
     "text": [
      "['AB', 'AB', 'AB', 'AB']\n",
      "['A', 'B', 'A', 'B', 'A', 'A', 'B', 'A', 'B', 'A', 'B', 'A', 'B', 'A', 'A', 'A', 'B']\n",
      "['A', 'B', 'A', 'B', 'A', 'A', 'B', 'A', 'B', 'A', 'B', 'A', 'B', 'A', 'A', 'A', 'B']\n",
      "['B', 'B', 'B', 'B']\n"
     ]
    },
    {
     "data": {
      "text/plain": [
       "['B', 'C', 'B', 'C', 'B', 'C', 'C', 'B', 'C', 'B', 'C', 'B', 'C', 'B', 'C']"
      ]
     },
     "execution_count": 8,
     "metadata": {},
     "output_type": "execute_result"
    }
   ],
   "source": [
    "Grades = \"ABCABACABCACBACBACBACAABC\"\n",
    "As =re.findall(\"A\", Grades)\n",
    "len(As)\n",
    "\n",
    "## AB\n",
    "ABs = re.findall(\"AB\", Grades)\n",
    "re.findall(\"[A][B]\", Grades)\n",
    "print(ABs)\n",
    "\n",
    "## A or B\n",
    "As_Bs = re.findall(\"A|B\", Grades)\n",
    "AorB = re.findall(\"[AB]\", Grades)\n",
    "print(As_Bs) #* A or B\n",
    "print(AorB)\n",
    "\n",
    "## B if A is followed by B\n",
    "A_Bs = re.findall(\"A(B)\", Grades) #* reurns B if A is followed by B\n",
    "print(A_Bs)\n",
    "\n",
    "re.findall(\"[A][(B|C)]\", Grades)\n",
    "#! ^ inside the [] is not start of the string\n",
    "#! $ inside the [] is not end of the string\n",
    "re.findall(\"[^A]\", Grades)\n"
   ]
  },
  {
   "cell_type": "markdown",
   "metadata": {},
   "source": [
    "##  Qunatifiers"
   ]
  },
  {
   "cell_type": "markdown",
   "metadata": {},
   "source": [
    "- ?\tThe question mark indicates zero or one occurrences of the preceding element. For example, colou?r matches both \"color\" and \"colour\".\n",
    "- ( * )\tThe asterisk indicates zero or more occurrences of the preceding element. For example, ab*c matches \"ac\", \"abc\", \"abbc\", \"abbbc\", and so on.\n",
    "- (+) The plus sign indicates one or more occurrences of the preceding element. For example, ab+c matches \"abc\", \"abbc\", \"abbbc\", and so on, but not \"ac\".\n",
    "\n",
    "- {n}[24]\tThe preceding item is matched exactly n times.\n",
    "\n",
    "- {min,}[24]\tThe preceding item is matched min or more times.\n",
    "- {,max}[24]\tThe preceding item is matched up to max times.\n",
    "- {min,max}[24]\tThe preceding item is matched at least min times, but not more than max times."
   ]
  },
  {
   "cell_type": "code",
   "execution_count": 9,
   "metadata": {},
   "outputs": [
    {
     "name": "stdout",
     "output_type": "stream",
     "text": [
      "one match was :['AA', 'AA', 'AA', 'AA']\n",
      "similar to this  :['AA', 'AA', 'AA', 'AA']\n"
     ]
    }
   ],
   "source": [
    "Grades = \" AABBBCBABAAABBBCAAAAABBBC\"\n",
    "re.findall(\"A{2,10}\", Grades)  # * A{2,10} means A repeated 2 to 10 times\n",
    "# * A{1,1} means A repeated 1 to 1 times\n",
    "print(\"one match was :\" + str(re.findall(\"A{1,1}A{1,1}\", Grades)))\n",
    "print(\"similar to this  :\" + str(re.findall(\"AA\", Grades)))\n"
   ]
  },
  {
   "cell_type": "code",
   "execution_count": 10,
   "metadata": {},
   "outputs": [],
   "source": [
    "with open(\"ferpa.txt\") as file :\n",
    "    wiki = file.read()"
   ]
  },
  {
   "cell_type": "code",
   "execution_count": 11,
   "metadata": {},
   "outputs": [
    {
     "data": {
      "text/plain": [
       "['Overview[edit]', 'records[edit]', 'records[edit]']"
      ]
     },
     "execution_count": 11,
     "metadata": {},
     "output_type": "execute_result"
    }
   ],
   "source": [
    "re.findall(\"[a-zA-Z]{2,100}\\[edit\\]\", wiki)"
   ]
  },
  {
   "cell_type": "code",
   "execution_count": 12,
   "metadata": {},
   "outputs": [
    {
     "data": {
      "text/plain": [
       "['Overview[edit]', 'records[edit]', 'records[edit]']"
      ]
     },
     "execution_count": 12,
     "metadata": {},
     "output_type": "execute_result"
    }
   ],
   "source": [
    "re.findall(\"[\\w]{2,100}\\[edit\\]\", wiki) #* any word"
   ]
  },
  {
   "cell_type": "code",
   "execution_count": 13,
   "metadata": {},
   "outputs": [
    {
     "data": {
      "text/plain": [
       "['Overview[edit]',\n",
       " 'Access to public records[edit]',\n",
       " 'Student medical records[edit]']"
      ]
     },
     "execution_count": 13,
     "metadata": {},
     "output_type": "execute_result"
    }
   ],
   "source": [
    "# by adding space to [\\w ] it will find a whole sentence \n",
    "re.findall(\"[\\w ]*\\[edit\\]\", wiki) "
   ]
  },
  {
   "cell_type": "markdown",
   "metadata": {},
   "source": [
    "### findall() vs finditer()\n",
    "- findall returns a list of all matches\n",
    "- finditer returns a tuple of all matches"
   ]
  },
  {
   "cell_type": "code",
   "execution_count": 14,
   "metadata": {},
   "outputs": [
    {
     "name": "stdout",
     "output_type": "stream",
     "text": [
      "Overview\n",
      "Access to public records\n",
      "Student medical records\n"
     ]
    },
    {
     "name": "stderr",
     "output_type": "stream",
     "text": [
      "C:\\Users\\DELL\\AppData\\Local\\Temp\\ipykernel_18360\\3461214109.py:3: FutureWarning: Possible nested set at position 1\n",
      "  print(re.split(\"[[]\", title)[0])\n"
     ]
    }
   ],
   "source": [
    "for title in re.findall(\"[\\w ]*\\[edit\\]\", wiki):\n",
    "    # print(re.split(\"[\\[]\", title)[0])  \n",
    "    print(re.split(\"[[]\", title)[0])  "
   ]
  },
  {
   "cell_type": "code",
   "execution_count": 15,
   "metadata": {},
   "outputs": [
    {
     "name": "stdout",
     "output_type": "stream",
     "text": [
      "Overview\n",
      "Access to public records\n",
      "Student medical records\n"
     ]
    }
   ],
   "source": [
    "for item in re.finditer(\"([\\w ]*)(\\[edit\\])\", wiki): \n",
    "    # print(item.groups()) # equivalent to item.group(0)\n",
    "    print(item.group(1)) "
   ]
  },
  {
   "cell_type": "markdown",
   "metadata": {},
   "source": [
    "- use ?P<name> to name a group"
   ]
  },
  {
   "cell_type": "code",
   "execution_count": 21,
   "metadata": {},
   "outputs": [
    {
     "name": "stdout",
     "output_type": "stream",
     "text": [
      "{'title': 'Overview', 'edit_links': '[edit]'}\n",
      "{'title': 'Access to public records', 'edit_links': '[edit]'}\n",
      "{'title': 'Student medical records', 'edit_links': '[edit]'}\n",
      "\n",
      " the group dict is : \n",
      "{'title': 'Student medical records', 'edit_links': '[edit]'}\n"
     ]
    }
   ],
   "source": [
    "for item in re.finditer(\"(?P<title>[\\w ]*)(?P<edit_links>\\[edit\\])\", wiki): \n",
    "    # print(item.group(\"title\"))\n",
    "    print(item.groupdict())\n",
    "    # print(item.group(\"edit_links\"))\n",
    "print(\"\\n the group dict is : \\n\" + str(item.groupdict()))"
   ]
  },
  {
   "cell_type": "markdown",
   "metadata": {},
   "source": [
    "## lookahead - look behind\n",
    "- lookahead is used to match a pattern without consuming the characters that match it\n",
    "- use + instead of * to get rid of '' , space"
   ]
  },
  {
   "cell_type": "code",
   "execution_count": 17,
   "metadata": {},
   "outputs": [
    {
     "name": "stdout",
     "output_type": "stream",
     "text": [
      "<re.Match object; span=(0, 8), match='Overview'>\n",
      "<re.Match object; span=(2715, 2739), match='Access to public records'>\n",
      "<re.Match object; span=(3692, 3715), match='Student medical records'>\n"
     ]
    }
   ],
   "source": [
    "for item in re.finditer(\"(?P<title>[\\w ]+)(?=\\[edit\\])\", wiki): \n",
    "    print(item)\n"
   ]
  },
  {
   "cell_type": "markdown",
   "metadata": {},
   "source": [
    "## give Patterns a try later "
   ]
  },
  {
   "cell_type": "markdown",
   "metadata": {},
   "source": [
    "## More in this link \n",
    "[Regex](https://docs.python.org/3/howto/regex.html)"
   ]
  },
  {
   "cell_type": "code",
   "execution_count": 18,
   "metadata": {},
   "outputs": [
    {
     "data": {
      "text/plain": [
       "['www.aBC.com', 'abc.com', 'ab_c.de8f.com', 'abc', 'abc..com']"
      ]
     },
     "execution_count": 18,
     "metadata": {},
     "output_type": "execute_result"
    }
   ],
   "source": [
    "import re\n",
    "text = \"www.aBC.com, abc.com, ab_c.de8f.com abc, abc..com\"\n",
    "\n",
    "re.findall(\"[\\w.com]+\", text)\n"
   ]
  },
  {
   "cell_type": "code",
   "execution_count": 19,
   "metadata": {},
   "outputs": [
    {
     "data": {
      "text/plain": [
       "['foot', 'fell', 'fastest']"
      ]
     },
     "execution_count": 19,
     "metadata": {},
     "output_type": "execute_result"
    }
   ],
   "source": [
    "re.findall(r'\\bf[a-z]*', 'which foot or hand fell fastest')\n"
   ]
  }
 ],
 "metadata": {
  "kernelspec": {
   "display_name": "Python 3.10.0 64-bit",
   "language": "python",
   "name": "python3"
  },
  "language_info": {
   "codemirror_mode": {
    "name": "ipython",
    "version": 3
   },
   "file_extension": ".py",
   "mimetype": "text/x-python",
   "name": "python",
   "nbconvert_exporter": "python",
   "pygments_lexer": "ipython3",
   "version": "3.10.0"
  },
  "orig_nbformat": 4,
  "vscode": {
   "interpreter": {
    "hash": "fbc768028c3e6ead51d9a200ddcb2ec858ae62844dcd1994729a8279be9b48f2"
   }
  }
 },
 "nbformat": 4,
 "nbformat_minor": 2
}
