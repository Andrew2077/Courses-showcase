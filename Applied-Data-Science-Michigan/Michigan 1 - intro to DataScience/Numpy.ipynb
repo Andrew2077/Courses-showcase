{
 "cells": [
  {
   "cell_type": "code",
   "execution_count": 3,
   "metadata": {},
   "outputs": [],
   "source": [
    "import numpy as np \n",
    "#! ndarrays are vectotrized arrays that work in parallel"
   ]
  },
  {
   "cell_type": "markdown",
   "metadata": {},
   "source": [
    "## 1. Array Creation"
   ]
  },
  {
   "cell_type": "code",
   "execution_count": 6,
   "metadata": {},
   "outputs": [
    {
     "name": "stdout",
     "output_type": "stream",
     "text": [
      "1\n",
      "2\n",
      "int32\n"
     ]
    }
   ],
   "source": [
    "# creating ndarrays \n",
    "Arr = np.array([1,2,3,4,5]) # 1D array\n",
    "Arr2d = np.array([[1,2,3],[4,5,6]]) # 2D array\n",
    "\n",
    "# u can ge tht dimensions of an array \n",
    "print(Arr.ndim)\n",
    "print(Arr2d.ndim)\n",
    "print(Arr2d.dtype)"
   ]
  },
  {
   "cell_type": "code",
   "execution_count": 9,
   "metadata": {},
   "outputs": [
    {
     "name": "stdout",
     "output_type": "stream",
     "text": [
      "[[0.41403187 0.17293234 0.94028437]\n",
      " [0.9534787  0.05104826 0.54900115]\n",
      " [0.43577051 0.37139303 0.9235625 ]]\n",
      "[0 2 4 6 8]\n"
     ]
    }
   ],
   "source": [
    "rand_arr = np.random.rand(3, 3)\n",
    "ranged_arr = np.arange(0, 10, 2)\n",
    "\n",
    "print(rand_arr)\n",
    "print(ranged_arr)\n"
   ]
  },
  {
   "cell_type": "markdown",
   "metadata": {},
   "source": [
    "## 2. Array Operations"
   ]
  },
  {
   "cell_type": "code",
   "execution_count": 12,
   "metadata": {},
   "outputs": [
    {
     "name": "stdout",
     "output_type": "stream",
     "text": [
      "[ 7  9 11 13 15]\n",
      "[-5 -5 -5 -5 -5]\n",
      "[False False False  True  True]\n",
      "[4 5]\n"
     ]
    }
   ],
   "source": [
    "a = np.array([1,2,3,4,5])\n",
    "b = np.array([6,7,8,9,10])\n",
    "\n",
    "c = a + b #* it's performed elementwise\n",
    "d = a - b\n",
    "print(c)\n",
    "print(d)\n",
    "boolean_arr = a > 3\n",
    "print(boolean_arr)\n",
    "#* applying a function to an array\n",
    "modified_arr = a[boolean_arr] \n",
    "print(modified_arr)\n"
   ]
  },
  {
   "cell_type": "code",
   "execution_count": 15,
   "metadata": {},
   "outputs": [
    {
     "name": "stdout",
     "output_type": "stream",
     "text": [
      "float64\n",
      "float64\n"
     ]
    }
   ],
   "source": [
    "#* array dtype\n",
    "\n",
    "#! numpy.dtype will choose the data type that fits all the elements in the array\n",
    "array_1 = np.array([1.0,2,3,4,5])\n",
    "print(array_1.dtype)\n",
    "array_1 = np.array([1,2,3.0,4,5])\n",
    "print(array_1.dtype)"
   ]
  },
  {
   "cell_type": "markdown",
   "metadata": {},
   "source": [
    "### matrix multiplication"
   ]
  },
  {
   "cell_type": "code",
   "execution_count": 13,
   "metadata": {},
   "outputs": [
    {
     "name": "stdout",
     "output_type": "stream",
     "text": [
      "[[ 1  4  9]\n",
      " [16 25 36]\n",
      " [49 64 81]]\n",
      "[[ 30  36  42]\n",
      " [ 66  81  96]\n",
      " [102 126 150]]\n"
     ]
    }
   ],
   "source": [
    "Mat_A = np.array([[1,2,3],[4,5,6],[7,8,9]])\n",
    "Mat_B = np.array([[1,2,3],[4,5,6],[7,8,9]])\n",
    "\n",
    "#* matrix multiplication\n",
    "## using * operator will perform multiplication elementwise\n",
    "## using @ operator will perform matrix multiplication\n",
    "\n",
    "print(Mat_A * Mat_B)\n",
    "print(Mat_A @ Mat_B)"
   ]
  },
  {
   "cell_type": "code",
   "execution_count": 16,
   "metadata": {},
   "outputs": [
    {
     "name": "stdout",
     "output_type": "stream",
     "text": [
      "15\n",
      "3.0\n",
      "1.4142135623730951\n",
      "2.0\n",
      "1\n",
      "5\n",
      "0\n",
      "4\n"
     ]
    }
   ],
   "source": [
    "array_1 = np.array([1,2,3,4,5])\n",
    "print(array_1.sum()) #* sum of all elements\n",
    "print(array_1.mean()) #* average of all elements\n",
    "print(array_1.std()) #* standard deviation of all elements\n",
    "print(array_1.var()) #* variance of all elements\n",
    "print(array_1.min()) #* minimum of all elements\n",
    "print(array_1.max()) #* max and min are also functions\n",
    "print(array_1.argmin()) #* returns the index of the minimum element\n",
    "print(array_1.argmax()) #* returns the index of the maximum element"
   ]
  },
  {
   "cell_type": "code",
   "execution_count": null,
   "metadata": {},
   "outputs": [],
   "source": [
    "# from PIL import Image\n",
    "# array = np.array(Image.open('/home/jatin/Downloads/python_logo.png'))\n",
    "# #* converting an image to an ndarray"
   ]
  },
  {
   "cell_type": "markdown",
   "metadata": {},
   "source": [
    "## 2. Indexing, Slicing, and Iterating"
   ]
  },
  {
   "cell_type": "code",
   "execution_count": 25,
   "metadata": {},
   "outputs": [
    {
     "name": "stdout",
     "output_type": "stream",
     "text": [
      "[4 5 6]\n",
      "5\n",
      "5\n",
      "[4 5]\n"
     ]
    }
   ],
   "source": [
    "array_1 = np.array([1, 2, 3, 4, 5])\n",
    "array_1[4]  # * indexing\n",
    "\n",
    "array_2d = np.array([[1, 2, 3], [4, 5, 6], [7, 8, 9]])\n",
    "print(array_2d[1])\n",
    "print(array_2d[1][1])\n",
    "print(array_2d[1, 1])\n",
    "\n",
    "print(array_1[array_1 > 3])  # * returns the elements greater than 3\n"
   ]
  },
  {
   "cell_type": "code",
   "execution_count": 27,
   "metadata": {},
   "outputs": [
    {
     "name": "stdout",
     "output_type": "stream",
     "text": [
      "[[7 8 9]]\n",
      "[[1 2 3]\n",
      " [4 5 6]]\n",
      "[[4 5 6]\n",
      " [7 8 9]]\n",
      "[[5 6]\n",
      " [8 9]]\n"
     ]
    }
   ],
   "source": [
    "#! slicing\n",
    "print(array_2d[2:])\n",
    "print(array_2d[:2])\n",
    "print(array_2d[1:3])\n",
    "print(array_2d[1:3, 1:3])\n"
   ]
  },
  {
   "cell_type": "code",
   "execution_count": null,
   "metadata": {},
   "outputs": [],
   "source": [
    "# rading from a file\n",
    "#! might want to check the genfromtxt function later\n",
    "Iris = np.genfromtxt('iris.csv', delimiter=',', dtype=None)\n",
    "Iris[:, 0]  # * will return the first column as a single list\n",
    "Iris[:, 0:1]  # * this will preserve the dimension of the columns\n",
    "Iris[:, 0]  # * will return the first column as a single list\n",
    "Iris[:, 0:1]  # * this will preserve the dimension of the columns\n"
   ]
  },
  {
   "cell_type": "markdown",
   "metadata": {},
   "source": [
    "## np.reshape(array, shape)"
   ]
  },
  {
   "cell_type": "code",
   "execution_count": null,
   "metadata": {},
   "outputs": [],
   "source": [
    "import numpy as np\n",
    "\n",
    "def l2_dist(a, b):\n",
    "    result = ((a - b) * (a - b)).sum()\n",
    "    result = result ** 0.5\n",
    "    return result \n",
    "\n",
    "\n",
    "a = np.array([5,4,3,2,1])\n",
    "b = np.array([1,2,3,4,5])\n",
    "\n",
    "c =np.reshape(b,(1,5,1))\n",
    "print(c.shape)\n",
    "print(b.shape)\n",
    "print(np.reshape(a,(1,5)))\n",
    "print(np.reshape(b,(1,5)))\n",
    "\n",
    "\n",
    "print(l2_dist(a.T,b.T))\n",
    "print(l2_dist(a,b))\n",
    "print(l2_dist(np.reshape(a,(1,5)),np.reshape(b,(1,5,1))))\n",
    "print(l2_dist(np.reshape(a,(1,5)),np.reshape(b,(1,5))))"
   ]
  },
  {
   "cell_type": "code",
   "execution_count": 4,
   "metadata": {},
   "outputs": [],
   "source": [
    "a1 = np.random.rand(4)\n",
    "a2 = np.random.rand(4, 1)\n",
    "a3 = np.array([[1, 2, 3, 4]])\n",
    "a4 = np.arange(1, 4, 1)\n",
    "a5 = np.linspace(1 ,4, 4)"
   ]
  },
  {
   "cell_type": "markdown",
   "metadata": {},
   "source": []
  },
  {
   "cell_type": "code",
   "execution_count": 18,
   "metadata": {},
   "outputs": [
    {
     "name": "stdout",
     "output_type": "stream",
     "text": [
      "[[0 0 1]\n",
      " [1 1 1]]\n"
     ]
    }
   ],
   "source": [
    "import numpy as np\n",
    "\n",
    "old = np.array([[1, 1, 1], [1, 1, 1]])\n",
    "new = old\n",
    "new[0, :2] = 0\n",
    "\n",
    "print(old)"
   ]
  },
  {
   "cell_type": "code",
   "execution_count": null,
   "metadata": {},
   "outputs": [],
   "source": []
  }
 ],
 "metadata": {
  "kernelspec": {
   "display_name": "Python 3.10.0 64-bit",
   "language": "python",
   "name": "python3"
  },
  "language_info": {
   "codemirror_mode": {
    "name": "ipython",
    "version": 3
   },
   "file_extension": ".py",
   "mimetype": "text/x-python",
   "name": "python",
   "nbconvert_exporter": "python",
   "pygments_lexer": "ipython3",
   "version": "3.10.0"
  },
  "orig_nbformat": 4,
  "vscode": {
   "interpreter": {
    "hash": "fbc768028c3e6ead51d9a200ddcb2ec858ae62844dcd1994729a8279be9b48f2"
   }
  }
 },
 "nbformat": 4,
 "nbformat_minor": 2
}
