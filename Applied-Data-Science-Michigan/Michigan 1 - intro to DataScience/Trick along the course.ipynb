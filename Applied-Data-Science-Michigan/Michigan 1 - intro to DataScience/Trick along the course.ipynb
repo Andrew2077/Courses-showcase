{
 "cells": [
  {
   "cell_type": "markdown",
   "metadata": {},
   "source": [
    "### 1 - Creating a list with online comprehensions"
   ]
  },
  {
   "cell_type": "code",
   "execution_count": 5,
   "metadata": {},
   "outputs": [],
   "source": [
    "lowercase = 'abcdefghijklmnopqrstuvwxyz'\n",
    "digits = '0123456789'\n",
    "\n",
    "correct_answer = [a+b+c+d for a in lowercase for b in lowercase for c in digits for d in digits]"
   ]
  },
  {
   "cell_type": "markdown",
   "metadata": {},
   "source": [
    "## 2 - Formating with commas "
   ]
  },
  {
   "cell_type": "code",
   "execution_count": 6,
   "metadata": {},
   "outputs": [
    {
     "name": "stdout",
     "output_type": "stream",
     "text": [
      "5,000,000\n"
     ]
    }
   ],
   "source": [
    "numbers = \"{:,}\".format(5000000)\n",
    "print(numbers)\n"
   ]
  },
  {
   "cell_type": "code",
   "execution_count": 9,
   "metadata": {},
   "outputs": [
    {
     "name": "stdout",
     "output_type": "stream",
     "text": [
      "100,000,000\n"
     ]
    }
   ],
   "source": [
    "def my_value(number):\n",
    "    return (\"{:,}\".format(number))\n",
    "\n",
    "\n",
    "print(my_value(100000000))\n"
   ]
  },
  {
   "cell_type": "code",
   "execution_count": 10,
   "metadata": {},
   "outputs": [
    {
     "name": "stdout",
     "output_type": "stream",
     "text": [
      "235,478.88\n"
     ]
    }
   ],
   "source": [
    "my_num = 235478.875425\n",
    "s = \"{:,.2f}\".format(my_num) #* with 2 digits after comma\n",
    "print(s)"
   ]
  },
  {
   "cell_type": "markdown",
   "metadata": {},
   "source": [
    "## 3 - It's easier to work with str.split() than regular expressions"
   ]
  },
  {
   "cell_type": "markdown",
   "metadata": {},
   "source": [
    "## List comprehension"
   ]
  },
  {
   "cell_type": "code",
   "execution_count": 13,
   "metadata": {},
   "outputs": [
    {
     "data": {
      "text/plain": [
       "100"
      ]
     },
     "execution_count": 13,
     "metadata": {},
     "output_type": "execute_result"
    }
   ],
   "source": [
    "import numpy as np\n",
    "x= [np.random.random(100) for x in range(100)] #* creates 100x100 list\n",
    "x[1].__len__() #* returns 100"
   ]
  },
  {
   "cell_type": "code",
   "execution_count": 15,
   "metadata": {},
   "outputs": [
    {
     "data": {
      "text/html": [
       "<div>\n",
       "<style scoped>\n",
       "    .dataframe tbody tr th:only-of-type {\n",
       "        vertical-align: middle;\n",
       "    }\n",
       "\n",
       "    .dataframe tbody tr th {\n",
       "        vertical-align: top;\n",
       "    }\n",
       "\n",
       "    .dataframe thead th {\n",
       "        text-align: right;\n",
       "    }\n",
       "</style>\n",
       "<table border=\"1\" class=\"dataframe\">\n",
       "  <thead>\n",
       "    <tr style=\"text-align: right;\">\n",
       "      <th></th>\n",
       "      <th>0</th>\n",
       "      <th>1</th>\n",
       "      <th>2</th>\n",
       "      <th>3</th>\n",
       "      <th>4</th>\n",
       "      <th>5</th>\n",
       "      <th>6</th>\n",
       "      <th>7</th>\n",
       "      <th>8</th>\n",
       "      <th>9</th>\n",
       "      <th>...</th>\n",
       "      <th>90</th>\n",
       "      <th>91</th>\n",
       "      <th>92</th>\n",
       "      <th>93</th>\n",
       "      <th>94</th>\n",
       "      <th>95</th>\n",
       "      <th>96</th>\n",
       "      <th>97</th>\n",
       "      <th>98</th>\n",
       "      <th>99</th>\n",
       "    </tr>\n",
       "  </thead>\n",
       "  <tbody>\n",
       "    <tr>\n",
       "      <th>0</th>\n",
       "      <td>0.163345</td>\n",
       "      <td>0.845767</td>\n",
       "      <td>0.670575</td>\n",
       "      <td>8.469704e-08</td>\n",
       "      <td>1.137738</td>\n",
       "      <td>1.532048</td>\n",
       "      <td>0.165653</td>\n",
       "      <td>2.059058</td>\n",
       "      <td>2.730906</td>\n",
       "      <td>0.384381</td>\n",
       "      <td>...</td>\n",
       "      <td>0.267867</td>\n",
       "      <td>0.049582</td>\n",
       "      <td>1.619718</td>\n",
       "      <td>0.065533</td>\n",
       "      <td>0.242684</td>\n",
       "      <td>0.093356</td>\n",
       "      <td>0.010810</td>\n",
       "      <td>0.009138</td>\n",
       "      <td>2.404642</td>\n",
       "      <td>0.205246</td>\n",
       "    </tr>\n",
       "    <tr>\n",
       "      <th>1</th>\n",
       "      <td>1.446566</td>\n",
       "      <td>1.093253</td>\n",
       "      <td>0.848018</td>\n",
       "      <td>1.617888e+00</td>\n",
       "      <td>0.363807</td>\n",
       "      <td>5.329396</td>\n",
       "      <td>0.694407</td>\n",
       "      <td>0.182683</td>\n",
       "      <td>0.621786</td>\n",
       "      <td>1.052774</td>\n",
       "      <td>...</td>\n",
       "      <td>1.763759</td>\n",
       "      <td>0.441337</td>\n",
       "      <td>0.271511</td>\n",
       "      <td>0.046717</td>\n",
       "      <td>1.382635</td>\n",
       "      <td>0.156647</td>\n",
       "      <td>0.088574</td>\n",
       "      <td>0.294024</td>\n",
       "      <td>0.273733</td>\n",
       "      <td>0.008435</td>\n",
       "    </tr>\n",
       "    <tr>\n",
       "      <th>2</th>\n",
       "      <td>0.297239</td>\n",
       "      <td>0.305757</td>\n",
       "      <td>0.744182</td>\n",
       "      <td>3.275959e+00</td>\n",
       "      <td>2.253446</td>\n",
       "      <td>1.791785</td>\n",
       "      <td>0.804543</td>\n",
       "      <td>1.612900</td>\n",
       "      <td>0.952840</td>\n",
       "      <td>0.931523</td>\n",
       "      <td>...</td>\n",
       "      <td>0.746227</td>\n",
       "      <td>0.391697</td>\n",
       "      <td>5.816466</td>\n",
       "      <td>0.220872</td>\n",
       "      <td>0.796559</td>\n",
       "      <td>0.214708</td>\n",
       "      <td>0.315064</td>\n",
       "      <td>0.002504</td>\n",
       "      <td>0.137108</td>\n",
       "      <td>2.733739</td>\n",
       "    </tr>\n",
       "    <tr>\n",
       "      <th>3</th>\n",
       "      <td>0.191436</td>\n",
       "      <td>1.801872</td>\n",
       "      <td>0.361709</td>\n",
       "      <td>4.892055e-01</td>\n",
       "      <td>0.297562</td>\n",
       "      <td>0.042270</td>\n",
       "      <td>0.526799</td>\n",
       "      <td>0.852941</td>\n",
       "      <td>2.720060</td>\n",
       "      <td>0.133849</td>\n",
       "      <td>...</td>\n",
       "      <td>0.172237</td>\n",
       "      <td>0.022236</td>\n",
       "      <td>0.448989</td>\n",
       "      <td>2.082244</td>\n",
       "      <td>0.053299</td>\n",
       "      <td>0.237441</td>\n",
       "      <td>0.074395</td>\n",
       "      <td>0.028593</td>\n",
       "      <td>0.003905</td>\n",
       "      <td>6.117812</td>\n",
       "    </tr>\n",
       "    <tr>\n",
       "      <th>4</th>\n",
       "      <td>0.048047</td>\n",
       "      <td>2.539986</td>\n",
       "      <td>0.299610</td>\n",
       "      <td>7.178226e-04</td>\n",
       "      <td>1.219407</td>\n",
       "      <td>0.210337</td>\n",
       "      <td>0.010716</td>\n",
       "      <td>0.011863</td>\n",
       "      <td>0.154247</td>\n",
       "      <td>0.387350</td>\n",
       "      <td>...</td>\n",
       "      <td>0.673111</td>\n",
       "      <td>0.735577</td>\n",
       "      <td>3.979230</td>\n",
       "      <td>0.017915</td>\n",
       "      <td>4.637825</td>\n",
       "      <td>1.971339</td>\n",
       "      <td>4.175802</td>\n",
       "      <td>0.582068</td>\n",
       "      <td>0.734362</td>\n",
       "      <td>0.636010</td>\n",
       "    </tr>\n",
       "  </tbody>\n",
       "</table>\n",
       "<p>5 rows × 100 columns</p>\n",
       "</div>"
      ],
      "text/plain": [
       "         0         1         2             3         4         5         6   \\\n",
       "0  0.163345  0.845767  0.670575  8.469704e-08  1.137738  1.532048  0.165653   \n",
       "1  1.446566  1.093253  0.848018  1.617888e+00  0.363807  5.329396  0.694407   \n",
       "2  0.297239  0.305757  0.744182  3.275959e+00  2.253446  1.791785  0.804543   \n",
       "3  0.191436  1.801872  0.361709  4.892055e-01  0.297562  0.042270  0.526799   \n",
       "4  0.048047  2.539986  0.299610  7.178226e-04  1.219407  0.210337  0.010716   \n",
       "\n",
       "         7         8         9   ...        90        91        92        93  \\\n",
       "0  2.059058  2.730906  0.384381  ...  0.267867  0.049582  1.619718  0.065533   \n",
       "1  0.182683  0.621786  1.052774  ...  1.763759  0.441337  0.271511  0.046717   \n",
       "2  1.612900  0.952840  0.931523  ...  0.746227  0.391697  5.816466  0.220872   \n",
       "3  0.852941  2.720060  0.133849  ...  0.172237  0.022236  0.448989  2.082244   \n",
       "4  0.011863  0.154247  0.387350  ...  0.673111  0.735577  3.979230  0.017915   \n",
       "\n",
       "         94        95        96        97        98        99  \n",
       "0  0.242684  0.093356  0.010810  0.009138  2.404642  0.205246  \n",
       "1  1.382635  0.156647  0.088574  0.294024  0.273733  0.008435  \n",
       "2  0.796559  0.214708  0.315064  0.002504  0.137108  2.733739  \n",
       "3  0.053299  0.237441  0.074395  0.028593  0.003905  6.117812  \n",
       "4  4.637825  1.971339  4.175802  0.582068  0.734362  0.636010  \n",
       "\n",
       "[5 rows x 100 columns]"
      ]
     },
     "execution_count": 15,
     "metadata": {},
     "output_type": "execute_result"
    }
   ],
   "source": [
    "import numpy as np\n",
    "import pandas as pd\n",
    "\n",
    "df = pd.DataFrame([np.random.chisquare(df=1,size= 100)for x in range(100)]) #* check more about this \n",
    "df.head()\n"
   ]
  },
  {
   "cell_type": "markdown",
   "metadata": {},
   "source": [
    "## intersting slicing techniques"
   ]
  },
  {
   "cell_type": "code",
   "execution_count": null,
   "metadata": {},
   "outputs": [],
   "source": [
    "S = pd.Series(np.arange(5), index=['a', 'b', 'c', 'd', 'e'])\n",
    "S[1:4] # 1 to 3\n",
    "S['b':'e'] #1 to 4 "
   ]
  },
  {
   "cell_type": "markdown",
   "metadata": {},
   "source": [
    "## Errors encountered\n",
    "\n",
    "- 'float' object has no attribute 'shape' - **corr()**\n",
    "    - Just change type\n",
    "    ```python\n",
    "    astype(float)\n",
    "    ```\n",
    "- Try using .loc[row_indexer,col_indexer] = value instead\n",
    "    - just use \n",
    "    ```python\n",
    "    df.copy()\n",
    "    ```"
   ]
  },
  {
   "cell_type": "markdown",
   "metadata": {},
   "source": []
  }
 ],
 "metadata": {
  "kernelspec": {
   "display_name": "Python 3.10.0 64-bit",
   "language": "python",
   "name": "python3"
  },
  "language_info": {
   "codemirror_mode": {
    "name": "ipython",
    "version": 3
   },
   "file_extension": ".py",
   "mimetype": "text/x-python",
   "name": "python",
   "nbconvert_exporter": "python",
   "pygments_lexer": "ipython3",
   "version": "3.10.0"
  },
  "orig_nbformat": 4,
  "vscode": {
   "interpreter": {
    "hash": "fbc768028c3e6ead51d9a200ddcb2ec858ae62844dcd1994729a8279be9b48f2"
   }
  }
 },
 "nbformat": 4,
 "nbformat_minor": 2
}
