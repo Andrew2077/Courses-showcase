{
  "cells": [
    {
      "cell_type": "code",
      "execution_count": 1,
      "metadata": {
        "collapsed": false
      },
      "outputs": [
        {
          "ename": "ModuleNotFoundError",
          "evalue": "No module named 'ipympl'",
          "output_type": "error",
          "traceback": [
            "\u001b[1;31m---------------------------------------------------------------------------\u001b[0m",
            "\u001b[1;31mModuleNotFoundError\u001b[0m                       Traceback (most recent call last)",
            "Cell \u001b[1;32mIn [1], line 1\u001b[0m\n\u001b[1;32m----> 1\u001b[0m get_ipython()\u001b[39m.\u001b[39;49mrun_line_magic(\u001b[39m'\u001b[39;49m\u001b[39mmatplotlib\u001b[39;49m\u001b[39m'\u001b[39;49m, \u001b[39m'\u001b[39;49m\u001b[39mwidget\u001b[39;49m\u001b[39m'\u001b[39;49m)\n",
            "File \u001b[1;32m~\\AppData\\Roaming\\Python\\Python310\\site-packages\\IPython\\core\\interactiveshell.py:2309\u001b[0m, in \u001b[0;36mInteractiveShell.run_line_magic\u001b[1;34m(self, magic_name, line, _stack_depth)\u001b[0m\n\u001b[0;32m   2307\u001b[0m     kwargs[\u001b[39m'\u001b[39m\u001b[39mlocal_ns\u001b[39m\u001b[39m'\u001b[39m] \u001b[39m=\u001b[39m \u001b[39mself\u001b[39m\u001b[39m.\u001b[39mget_local_scope(stack_depth)\n\u001b[0;32m   2308\u001b[0m \u001b[39mwith\u001b[39;00m \u001b[39mself\u001b[39m\u001b[39m.\u001b[39mbuiltin_trap:\n\u001b[1;32m-> 2309\u001b[0m     result \u001b[39m=\u001b[39m fn(\u001b[39m*\u001b[39margs, \u001b[39m*\u001b[39m\u001b[39m*\u001b[39mkwargs)\n\u001b[0;32m   2310\u001b[0m \u001b[39mreturn\u001b[39;00m result\n",
            "File \u001b[1;32m~\\AppData\\Roaming\\Python\\Python310\\site-packages\\IPython\\core\\magics\\pylab.py:99\u001b[0m, in \u001b[0;36mPylabMagics.matplotlib\u001b[1;34m(self, line)\u001b[0m\n\u001b[0;32m     97\u001b[0m     \u001b[39mprint\u001b[39m(\u001b[39m\"\u001b[39m\u001b[39mAvailable matplotlib backends: \u001b[39m\u001b[39m%s\u001b[39;00m\u001b[39m\"\u001b[39m \u001b[39m%\u001b[39m backends_list)\n\u001b[0;32m     98\u001b[0m \u001b[39melse\u001b[39;00m:\n\u001b[1;32m---> 99\u001b[0m     gui, backend \u001b[39m=\u001b[39m \u001b[39mself\u001b[39;49m\u001b[39m.\u001b[39;49mshell\u001b[39m.\u001b[39;49menable_matplotlib(args\u001b[39m.\u001b[39;49mgui\u001b[39m.\u001b[39;49mlower() \u001b[39mif\u001b[39;49;00m \u001b[39misinstance\u001b[39;49m(args\u001b[39m.\u001b[39;49mgui, \u001b[39mstr\u001b[39;49m) \u001b[39melse\u001b[39;49;00m args\u001b[39m.\u001b[39;49mgui)\n\u001b[0;32m    100\u001b[0m     \u001b[39mself\u001b[39m\u001b[39m.\u001b[39m_show_matplotlib_backend(args\u001b[39m.\u001b[39mgui, backend)\n",
            "File \u001b[1;32m~\\AppData\\Roaming\\Python\\Python310\\site-packages\\IPython\\core\\interactiveshell.py:3473\u001b[0m, in \u001b[0;36mInteractiveShell.enable_matplotlib\u001b[1;34m(self, gui)\u001b[0m\n\u001b[0;32m   3469\u001b[0m         \u001b[39mprint\u001b[39m(\u001b[39m'\u001b[39m\u001b[39mWarning: Cannot change to a different GUI toolkit: \u001b[39m\u001b[39m%s\u001b[39;00m\u001b[39m.\u001b[39m\u001b[39m'\u001b[39m\n\u001b[0;32m   3470\u001b[0m                 \u001b[39m'\u001b[39m\u001b[39m Using \u001b[39m\u001b[39m%s\u001b[39;00m\u001b[39m instead.\u001b[39m\u001b[39m'\u001b[39m \u001b[39m%\u001b[39m (gui, \u001b[39mself\u001b[39m\u001b[39m.\u001b[39mpylab_gui_select))\n\u001b[0;32m   3471\u001b[0m         gui, backend \u001b[39m=\u001b[39m pt\u001b[39m.\u001b[39mfind_gui_and_backend(\u001b[39mself\u001b[39m\u001b[39m.\u001b[39mpylab_gui_select)\n\u001b[1;32m-> 3473\u001b[0m pt\u001b[39m.\u001b[39;49mactivate_matplotlib(backend)\n\u001b[0;32m   3474\u001b[0m configure_inline_support(\u001b[39mself\u001b[39m, backend)\n\u001b[0;32m   3476\u001b[0m \u001b[39m# Now we must activate the gui pylab wants to use, and fix %run to take\u001b[39;00m\n\u001b[0;32m   3477\u001b[0m \u001b[39m# plot updates into account\u001b[39;00m\n",
            "File \u001b[1;32m~\\AppData\\Roaming\\Python\\Python310\\site-packages\\IPython\\core\\pylabtools.py:359\u001b[0m, in \u001b[0;36mactivate_matplotlib\u001b[1;34m(backend)\u001b[0m\n\u001b[0;32m    354\u001b[0m \u001b[39m# Due to circular imports, pyplot may be only partially initialised\u001b[39;00m\n\u001b[0;32m    355\u001b[0m \u001b[39m# when this function runs.\u001b[39;00m\n\u001b[0;32m    356\u001b[0m \u001b[39m# So avoid needing matplotlib attribute-lookup to access pyplot.\u001b[39;00m\n\u001b[0;32m    357\u001b[0m \u001b[39mfrom\u001b[39;00m \u001b[39mmatplotlib\u001b[39;00m \u001b[39mimport\u001b[39;00m pyplot \u001b[39mas\u001b[39;00m plt\n\u001b[1;32m--> 359\u001b[0m plt\u001b[39m.\u001b[39;49mswitch_backend(backend)\n\u001b[0;32m    361\u001b[0m plt\u001b[39m.\u001b[39mshow\u001b[39m.\u001b[39m_needmain \u001b[39m=\u001b[39m \u001b[39mFalse\u001b[39;00m\n\u001b[0;32m    362\u001b[0m \u001b[39m# We need to detect at runtime whether show() is called by the user.\u001b[39;00m\n\u001b[0;32m    363\u001b[0m \u001b[39m# For this, we wrap it into a decorator which adds a 'called' flag.\u001b[39;00m\n",
            "File \u001b[1;32mc:\\Users\\DELL\\AppData\\Local\\Programs\\Python\\Python310\\lib\\site-packages\\matplotlib\\pyplot.py:265\u001b[0m, in \u001b[0;36mswitch_backend\u001b[1;34m(newbackend)\u001b[0m\n\u001b[0;32m    262\u001b[0m         rcParamsOrig[\u001b[39m\"\u001b[39m\u001b[39mbackend\u001b[39m\u001b[39m\"\u001b[39m] \u001b[39m=\u001b[39m \u001b[39m\"\u001b[39m\u001b[39magg\u001b[39m\u001b[39m\"\u001b[39m\n\u001b[0;32m    263\u001b[0m         \u001b[39mreturn\u001b[39;00m\n\u001b[1;32m--> 265\u001b[0m backend_mod \u001b[39m=\u001b[39m importlib\u001b[39m.\u001b[39;49mimport_module(\n\u001b[0;32m    266\u001b[0m     cbook\u001b[39m.\u001b[39;49m_backend_module_name(newbackend))\n\u001b[0;32m    268\u001b[0m required_framework \u001b[39m=\u001b[39m _get_required_interactive_framework(backend_mod)\n\u001b[0;32m    269\u001b[0m \u001b[39mif\u001b[39;00m required_framework \u001b[39mis\u001b[39;00m \u001b[39mnot\u001b[39;00m \u001b[39mNone\u001b[39;00m:\n",
            "File \u001b[1;32mc:\\Users\\DELL\\AppData\\Local\\Programs\\Python\\Python310\\lib\\importlib\\__init__.py:126\u001b[0m, in \u001b[0;36mimport_module\u001b[1;34m(name, package)\u001b[0m\n\u001b[0;32m    124\u001b[0m             \u001b[39mbreak\u001b[39;00m\n\u001b[0;32m    125\u001b[0m         level \u001b[39m+\u001b[39m\u001b[39m=\u001b[39m \u001b[39m1\u001b[39m\n\u001b[1;32m--> 126\u001b[0m \u001b[39mreturn\u001b[39;00m _bootstrap\u001b[39m.\u001b[39;49m_gcd_import(name[level:], package, level)\n",
            "File \u001b[1;32m<frozen importlib._bootstrap>:1050\u001b[0m, in \u001b[0;36m_gcd_import\u001b[1;34m(name, package, level)\u001b[0m\n",
            "File \u001b[1;32m<frozen importlib._bootstrap>:1027\u001b[0m, in \u001b[0;36m_find_and_load\u001b[1;34m(name, import_)\u001b[0m\n",
            "File \u001b[1;32m<frozen importlib._bootstrap>:992\u001b[0m, in \u001b[0;36m_find_and_load_unlocked\u001b[1;34m(name, import_)\u001b[0m\n",
            "File \u001b[1;32m<frozen importlib._bootstrap>:241\u001b[0m, in \u001b[0;36m_call_with_frames_removed\u001b[1;34m(f, *args, **kwds)\u001b[0m\n",
            "File \u001b[1;32m<frozen importlib._bootstrap>:1050\u001b[0m, in \u001b[0;36m_gcd_import\u001b[1;34m(name, package, level)\u001b[0m\n",
            "File \u001b[1;32m<frozen importlib._bootstrap>:1027\u001b[0m, in \u001b[0;36m_find_and_load\u001b[1;34m(name, import_)\u001b[0m\n",
            "File \u001b[1;32m<frozen importlib._bootstrap>:1004\u001b[0m, in \u001b[0;36m_find_and_load_unlocked\u001b[1;34m(name, import_)\u001b[0m\n",
            "\u001b[1;31mModuleNotFoundError\u001b[0m: No module named 'ipympl'"
          ]
        }
      ],
      "source": [
        "%matplotlib widget"
      ]
    },
    {
      "cell_type": "markdown",
      "metadata": {},
      "source": [
        "\n",
        "# Animated histogram\n",
        "\n",
        "Use histogram's `.BarContainer` to draw a bunch of rectangles for an animated\n",
        "histogram.\n"
      ]
    },
    {
      "cell_type": "code",
      "execution_count": 1,
      "metadata": {
        "collapsed": false
      },
      "outputs": [],
      "source": [
        "import numpy as np\n",
        "\n",
        "import matplotlib.pyplot as plt\n",
        "import matplotlib.animation as animation\n",
        "\n",
        "# Fixing random state for reproducibility\n",
        "np.random.seed(19680801)\n",
        "# Fixing bin edges\n",
        "HIST_BINS = np.linspace(-4, 4, 100)\n",
        "\n",
        "# histogram our data with numpy\n",
        "data = np.random.randn(1000)\n",
        "n, _ = np.histogram(data, HIST_BINS)"
      ]
    },
    {
      "cell_type": "markdown",
      "metadata": {},
      "source": [
        "To animate the histogram, we need an ``animate`` function, which generates\n",
        "a random set of numbers and updates the heights of rectangles. We utilize a\n",
        "python closure to track an instance of `.BarContainer` whose `.Rectangle`\n",
        "patches we shall update.\n",
        "\n"
      ]
    },
    {
      "cell_type": "code",
      "execution_count": 2,
      "metadata": {
        "collapsed": false
      },
      "outputs": [],
      "source": [
        "def prepare_animation(bar_container):\n",
        "\n",
        "    def animate(frame_number):\n",
        "        # simulate new data coming in\n",
        "        data = np.random.randn(1000)\n",
        "        n, _ = np.histogram(data, HIST_BINS)\n",
        "        for count, rect in zip(n, bar_container.patches):\n",
        "            rect.set_height(count)\n",
        "        return bar_container.patches\n",
        "    return animate"
      ]
    },
    {
      "cell_type": "markdown",
      "metadata": {},
      "source": [
        "Using :func:`~matplotlib.pyplot.hist` allows us to get an instance of\n",
        "`.BarContainer`, which is a collection of `.Rectangle` instances. Calling\n",
        "``prepare_animation`` will define ``animate`` function working with supplied\n",
        "`.BarContainer`, all this is used to setup `.FuncAnimation`.\n",
        "\n"
      ]
    },
    {
      "cell_type": "code",
      "execution_count": 3,
      "metadata": {
        "collapsed": false
      },
      "outputs": [
        {
          "data": {
            "image/png": "[encoded data removed]",
            "text/plain": [
              "<Figure size 640x480 with 1 Axes>"
            ]
          },
          "metadata": {},
          "output_type": "display_data"
        }
      ],
      "source": [
        "fig, ax = plt.subplots()\n",
        "_, _, bar_container = ax.hist(data, HIST_BINS, lw=1,\n",
        "                              ec=\"yellow\", fc=\"green\", alpha=0.5)\n",
        "ax.set_ylim(top=55)  # set safe limit to ensure that all data is visible.\n",
        "\n",
        "ani = animation.FuncAnimation(fig, prepare_animation(bar_container), 50,\n",
        "                              repeat=False, blit=True)\n",
        "plt.show()"
      ]
    },
    {
      "cell_type": "code",
      "execution_count": null,
      "metadata": {},
      "outputs": [],
      "source": []
    }
  ],
  "metadata": {
    "kernelspec": {
      "display_name": "Python 3.10.0 64-bit",
      "language": "python",
      "name": "python3"
    },
    "language_info": {
      "codemirror_mode": {
        "name": "ipython",
        "version": 3
      },
      "file_extension": ".py",
      "mimetype": "text/x-python",
      "name": "python",
      "nbconvert_exporter": "python",
      "pygments_lexer": "ipython3",
      "version": "3.10.0"
    },
    "vscode": {
      "interpreter": {
        "hash": "fbc768028c3e6ead51d9a200ddcb2ec858ae62844dcd1994729a8279be9b48f2"
      }
    }
  },
  "nbformat": 4,
  "nbformat_minor": 0
}
